# pip install transformers


from transformers import pipeline


chatbot = pipeline(task="conversational", model="facebook/blenderbot-400M-distill")


user_message="""
What are some fun activities I can do in the summer?
"""


from transformers import Conversation


conversation= Conversation(user_message)


print(conversation)


conversation= chatbot(conversation)


print(conversation)


user_message="""
I like to go hiking and workout outdoors. What are your favorite workouts to do outdoors?
"""


conversation= Conversation(user_message)


conversation= chatbot(conversation)


print(conversation)












